{
 "cells": [
  {
   "cell_type": "markdown",
   "metadata": {},
   "source": [
    "![tutorialpromo](images/tutorial_banner.PNG)\n",
    "\n",
    "\n",
    "# Tutorial B - pvfree\n",
    "\n",
    "Another option to get CEC module parameters is to use [pvfree](https://pvfree.herokuapp.com). \n",
    "\n",
    "<div class=\"alert alert-block alert-info\">\n",
    "<b>Let's Explore:</b> <a href='https://pvfree.herokuapp.com'> Click here to see the pvfree Website</a></div>\n",
    "\n",
    "![pvfree_table](images/pvfree_table.png)\n",
    "\n",
    "You can search the table of the [CEC modules](https://pvfree.herokuapp.com/cec_modules/). Once you find the desired module, you can get a JSON dictionary of the CEC module parameters from the API. For example, [Canadian Solar Inc. CS5P-220M](https://pvfree.herokuapp.com/cec_modules/1733/) can be downloaded from the API here: https://pvfree.herokuapp.com/api/v1/cecmodule/1733/?format=json. You can copy and paste or use python to call the API. The API also has search filters you can use. For example: https://pvfree.herokuapp.com/api/v1/cecmodule/?format=json&Name__istartswith=canadian&STC__gt=219&STC__lt=221 searches for all modules starting with \"canadian\" and with nameplate between 219-W and 221-W which returns a list of 6 modules in a JSON dictionary. Limiting the short circuit currentl (Isc) to less than 6-A reduces this list to 2 modules."
   ]
  },
  {
   "cell_type": "code",
   "execution_count": 1,
   "metadata": {},
   "outputs": [
    {
     "name": "stdout",
     "output_type": "stream",
     "text": [
      "Total count of Canadian Solar 220-W with Isc < 6A: 2\n"
     ]
    },
    {
     "data": {
      "text/plain": [
       "[{'A_c': 1.7,\n",
       "  'Adjust': 8.619516,\n",
       "  'BIPV': False,\n",
       "  'Bifacial': False,\n",
       "  'Date': '2018-11-04',\n",
       "  'I_L_ref': 5.11426,\n",
       "  'I_mp_ref': 4.69,\n",
       "  'I_o_ref': 8.102508e-10,\n",
       "  'I_sc_ref': 5.1,\n",
       "  'Length': 1.602,\n",
       "  'N_s': 96,\n",
       "  'Name': 'Canadian Solar Inc. CS5P-220M',\n",
       "  'PTC': 200.1,\n",
       "  'R_s': 1.066023,\n",
       "  'R_sh_ref': 381.254425,\n",
       "  'STC': 219.961,\n",
       "  'T_NOCT': 42.4,\n",
       "  'Technology': 'Mono-c-Si',\n",
       "  'V_mp_ref': 46.9,\n",
       "  'V_oc_ref': 59.4,\n",
       "  'Version': 'SAM 2018.10.29',\n",
       "  'Width': 1.061,\n",
       "  'a_ref': 2.635926,\n",
       "  'alpha_sc': 0.004539,\n",
       "  'beta_oc': -0.222156,\n",
       "  'created_on': '2019-02-12',\n",
       "  'gamma_r': -0.476,\n",
       "  'id': 1733,\n",
       "  'modified_on': '2019-02-12',\n",
       "  'resource_uri': '/api/v1/cecmodule/1733/'},\n",
       " {'A_c': 1.639,\n",
       "  'Adjust': 2.227195,\n",
       "  'BIPV': False,\n",
       "  'Bifacial': False,\n",
       "  'Date': '2018-11-04',\n",
       "  'I_L_ref': 5.05607,\n",
       "  'I_mp_ref': 4.73,\n",
       "  'I_o_ref': 9.957448e-11,\n",
       "  'I_sc_ref': 5.05,\n",
       "  'Length': 1.579,\n",
       "  'N_s': 96,\n",
       "  'Name': 'Canadian Solar Inc. CS5P-220P',\n",
       "  'PTC': 193.1,\n",
       "  'R_s': 1.00467,\n",
       "  'R_sh_ref': 835.904785,\n",
       "  'STC': 220.418,\n",
       "  'T_NOCT': 51.4,\n",
       "  'Technology': 'Multi-c-Si',\n",
       "  'V_mp_ref': 46.6,\n",
       "  'V_oc_ref': 58.3,\n",
       "  'Version': 'SAM 2018.10.29',\n",
       "  'Width': 1.038,\n",
       "  'a_ref': 2.366377,\n",
       "  'alpha_sc': 0.0025,\n",
       "  'beta_oc': -0.196588,\n",
       "  'created_on': '2019-02-12',\n",
       "  'gamma_r': -0.43,\n",
       "  'id': 1734,\n",
       "  'modified_on': '2019-02-12',\n",
       "  'resource_uri': '/api/v1/cecmodule/1734/'}]"
      ]
     },
     "execution_count": 1,
     "metadata": {},
     "output_type": "execute_result"
    }
   ],
   "source": [
    "import urllib, json\n",
    "params = urllib.parse.urlencode({\n",
    "    'Name__istartswith': 'canadian',\n",
    "    'STC__gt': 219, 'STC__lt': 221,\n",
    "    'I_sc_ref__lt': 6})\n",
    "with urllib.request.urlopen(f'https://pvfree.herokuapp.com/api/v1/cecmodule/?{params}') as fp:\n",
    "    cs_220_mods = json.load(fp)\n",
    "print(f\"Total count of Canadian Solar 220-W with Isc < 6A: {cs_220_mods['meta']['total_count']}\")\n",
    "cs_220_mods['objects']"
   ]
  },
  {
   "cell_type": "markdown",
   "metadata": {},
   "source": [
    "[![Creative Commons License](https://i.creativecommons.org/l/by/4.0/88x31.png)](http://creativecommons.org/licenses/by/4.0/)\n",
    "\n",
    "This work is licensed under a [Creative Commons Attribution 4.0 International License](http://creativecommons.org/licenses/by/4.0/)."
   ]
  }
 ],
 "metadata": {
  "kernelspec": {
   "display_name": "Python 3",
   "language": "python",
   "name": "python3"
  },
  "language_info": {
   "codemirror_mode": {
    "name": "ipython",
    "version": 3
   },
   "file_extension": ".py",
   "mimetype": "text/x-python",
   "name": "python",
   "nbconvert_exporter": "python",
   "pygments_lexer": "ipython3",
   "version": "3.7.3"
  }
 },
 "nbformat": 4,
 "nbformat_minor": 4
}
