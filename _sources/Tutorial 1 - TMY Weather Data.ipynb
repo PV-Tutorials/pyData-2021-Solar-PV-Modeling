{
 "cells": [
  {
   "cell_type": "markdown",
   "metadata": {
    "slideshow": {
     "slide_type": "slide"
    }
   },
   "source": [
    "![tutorialpromo](images/tutorial_banner.PNG)\n",
    "\n",
    "\n",
    "# Tutorial 1 - Weather Data: Accesing it, understanding it, visualizing it!\n"
   ]
  },
  {
   "cell_type": "markdown",
   "metadata": {
    "slideshow": {
     "slide_type": "subslide"
    }
   },
   "source": [
    "This notebook explores a standard type of weather data, the typical meteorological year (TMY), and how to summarize it with Python and [Pandas](https://pandas.pydata.org/).\n",
    "\n",
    "![Overview](images/tutorial_1_overview.PNG)"
   ]
  },
  {
   "cell_type": "markdown",
   "metadata": {
    "slideshow": {
     "slide_type": "subslide"
    }
   },
   "source": [
    "## Steps:\n",
    "- [Weather data in PV performance models](#Weather-Data-&-PV)\n",
    "- Looking at a sample weather data file\n",
    "- Where to get weather data from? \n",
    "- Weather data to API\n",
    "\n",
    "## PV Concepts:\n",
    "- TMY\n",
    "- GHI, DNI, DHI\n",
    "- DryBulb, Wspd\n",
    "- Irradiance vs. Insolation\n",
    "\n",
    "## Python Concepts:\n",
    "- Exploring a Pandas dataframe (`df`): `len()`, `df.head()`, `df.keys()`\n",
    "- [pvlib input-output tools](https://pvlib-python.readthedocs.io/en/stable/api.html#io-tools)\n",
    "- Ploting a Pandas dataframe (`df`): `df.plot()`\n",
    "- Aggregating data in a dataframe (`df`): [`df.resample(freq).sum()`](https://pandas.pydata.org/pandas-docs/stable/reference/api/pandas.DataFrame.resample.html)\n",
    "- Pandas [`DateOffsets`](https://pandas.pydata.org/pandas-docs/stable/user_guide/timeseries.html#dateoffset-objects) - shortcuts to set the frequency when resampling\n",
    "- Getting NREL irradiance data from the web based API using pvlib"
   ]
  },
  {
   "cell_type": "markdown",
   "metadata": {
    "slideshow": {
     "slide_type": "slide"
    }
   },
   "source": [
    "## Weather Data & PV \n",
    "\n",
    "Weather and irradiance data are used as input to PV performance models.  \n",
    "\n",
    "\n",
    "![SRRL](images/tutorial_1_SRRL.PNG)\n",
    "\n",
    "\n",
    "\n",
    "These data are directly measured, derived from measured data, or simulated using a stochastic model.\n",
    "\n",
    "\n",
    "\n",
    "\n"
   ]
  },
  {
   "cell_type": "markdown",
   "metadata": {
    "slideshow": {
     "slide_type": "slide"
    }
   },
   "source": [
    "## Typical Meteorological Year\n",
    "\n",
    "TMY datasets are intended to represent the weather for a typical year at a given location. \n",
    "\n",
    "TMY datasets provide hourly **solar irradiance**, **air temperature**, **wind speed**, and other weather measurements for a hypothetical year that represents more or less a \"median year\" for solar resource.  \n",
    "\n",
    "\n",
    "![TMY3 screenshot](images/tutorial_1_tmy3_example.PNG)"
   ]
  },
  {
   "cell_type": "markdown",
   "metadata": {
    "slideshow": {
     "slide_type": "subslide"
    }
   },
   "source": [
    "TMY datasets are created by selecting individual months out of an extended period of weather measurememts (say, 20 years of data) to construct a single year's worth of data. There are several methods for selecting which months to include, but the general idea is to calculate monthly summary statistics and take the month that lies in the middle of the distribution.  For example, no two Januaries will be exactly the same, so summing the total solar irradiance for each January will give a [normal distribution](https://en.wikipedia.org/wiki/Normal_distribution), and the month that falls closest to the [median](https://en.wikipedia.org/wiki/Median) is chosen as the representative month. The same process is followed for February, March, and so on, and all twelve representative months are stitched together into a year-long dataset.  \n",
    "\n",
    "The oldest TMYs were calculated using data from the nearest weather station (airports and such). Today, it's common to use TMYs calculated using simulated weather data from satellite imagery because of the improved spatial resolution.\n",
    "\n",
    "To get a better feel for TMY data, we'll first explore an example TMY dataset that is bundled with pvlib."
   ]
  },
  {
   "cell_type": "markdown",
   "metadata": {
    "slideshow": {
     "slide_type": "subslide"
    }
   },
   "source": [
    "## First Step: Import Libraries\n",
    "\n",
    "In Python, some functions are builtin like `print()` but others must be imported before they can be used. For this notebook we're going to import three packages:\n",
    "* [pvlib](https://pvlib-python.readthedocs.io/en/stable/) - library for simulating performance of photovoltaic energy systems. \n",
    "* [pandas](https://pandas.pydata.org/) - analysis tool for timeseries and tabular data\n",
    "* [matplotlib](https://matplotlib.org/) - data visualization for Python\n",
    "\n",
    "Some Python modules are part of the [standard library](https://docs.python.org/3/library/index.html), but are not imported with builtins. We'll use the `pathlib` module which is useful for accessing files and folders."
   ]
  },
  {
   "cell_type": "code",
   "execution_count": 1,
   "metadata": {
    "slideshow": {
     "slide_type": "subslide"
    }
   },
   "outputs": [],
   "source": [
    "import os  # for getting environment variables\n",
    "import pathlib  # for finding the example dataset\n",
    "import pvlib\n",
    "import pandas as pd  # for data wrangling\n",
    "import matplotlib.pyplot as plt  # for visualization"
   ]
  },
  {
   "cell_type": "markdown",
   "metadata": {
    "slideshow": {
     "slide_type": "subslide"
    }
   },
   "source": [
    "Query which version you are using of pvlib:"
   ]
  },
  {
   "cell_type": "code",
   "execution_count": 2,
   "metadata": {
    "slideshow": {
     "slide_type": "subslide"
    }
   },
   "outputs": [
    {
     "name": "stdout",
     "output_type": "stream",
     "text": [
      "0.8.0\n"
     ]
    }
   ],
   "source": [
    "print(pvlib.__version__)"
   ]
  },
  {
   "cell_type": "markdown",
   "metadata": {
    "slideshow": {
     "slide_type": "slide"
    }
   },
   "source": [
    "## Reading a TMY dataset with pvlib\n",
    "\n",
    "First, we'll read the TMY dataset with [`pvlib.iotools.read_tmy3()`](https://pvlib-python.readthedocs.io/en/stable/generated/pvlib.iotools.read_tmy3.html) which returns a [Pandas DataFrame](https://pandas.pydata.org/pandas-docs/stable/reference/api/pandas.DataFrame.html) of the timeseries weather data and a second output with a Python dictionary of the TMY metadata like longitude, latitude, elevation, etc.\n",
    "\n",
    "We will use the Python [`pathlib`](https://docs.python.org/3/library/pathlib.html) to get the path to the `'data'` directory which comes with the `pvlib` package. Then we can use the slash operator, `/` to make the full path to the TMY file."
   ]
  },
  {
   "cell_type": "code",
   "execution_count": 3,
   "metadata": {},
   "outputs": [
    {
     "name": "stdout",
     "output_type": "stream",
     "text": [
      "Help on function read_tmy3 in module pvlib.iotools.tmy:\n",
      "\n",
      "read_tmy3(filename, coerce_year=None, recolumn=True)\n",
      "    Read a TMY3 file in to a pandas dataframe.\n",
      "    \n",
      "    Note that values contained in the metadata dictionary are unchanged\n",
      "    from the TMY3 file (i.e. units are retained). In the case of any\n",
      "    discrepancies between this documentation and the TMY3 User's Manual\n",
      "    [1]_, the TMY3 User's Manual takes precedence.\n",
      "    \n",
      "    The TMY3 files were updated in Jan. 2015. This function requires the\n",
      "    use of the updated files.\n",
      "    \n",
      "    Parameters\n",
      "    ----------\n",
      "    filename : str\n",
      "        A relative file path or absolute file path.\n",
      "    \n",
      "    coerce_year : None or int, default None\n",
      "        If supplied, the year of the index will be set to `coerce_year`, except\n",
      "        for the last index value which will be set to the *next* year so that\n",
      "        the index increases monotonically.\n",
      "    \n",
      "    recolumn : bool, default True\n",
      "        If ``True``, apply standard names to TMY3 columns. Typically this\n",
      "        results in stripping the units from the column name.\n",
      "    \n",
      "    Returns\n",
      "    -------\n",
      "    Tuple of the form (data, metadata).\n",
      "    \n",
      "    data : DataFrame\n",
      "        A pandas dataframe with the columns described in the table\n",
      "        below. For more detailed descriptions of each component, please\n",
      "        consult the TMY3 User's Manual ([1]), especially tables 1-1\n",
      "        through 1-6.\n",
      "    \n",
      "    metadata : dict\n",
      "        The site metadata available in the file.\n",
      "    \n",
      "    Notes\n",
      "    -----\n",
      "    The returned structures have the following fields.\n",
      "    \n",
      "    ===============   ======  ===================\n",
      "    key               format  description\n",
      "    ===============   ======  ===================\n",
      "    altitude          Float   site elevation\n",
      "    latitude          Float   site latitudeitude\n",
      "    longitude         Float   site longitudeitude\n",
      "    Name              String  site name\n",
      "    State             String  state\n",
      "    TZ                Float   UTC offset\n",
      "    USAF              Int     USAF identifier\n",
      "    ===============   ======  ===================\n",
      "    \n",
      "    =============================       ======================================================================================================================================================\n",
      "    TMYData field                       description\n",
      "    =============================       ======================================================================================================================================================\n",
      "    TMYData.Index                       A pandas datetime index. NOTE, the index is currently timezone unaware, and times are set to local standard time (daylight savings is not included)\n",
      "    TMYData.ETR                         Extraterrestrial horizontal radiation recv'd during 60 minutes prior to timestamp, Wh/m^2\n",
      "    TMYData.ETRN                        Extraterrestrial normal radiation recv'd during 60 minutes prior to timestamp, Wh/m^2\n",
      "    TMYData.GHI                         Direct and diffuse horizontal radiation recv'd during 60 minutes prior to timestamp, Wh/m^2\n",
      "    TMYData.GHISource                   See [1]_, Table 1-4\n",
      "    TMYData.GHIUncertainty              Uncertainty based on random and bias error estimates                        see [2]_\n",
      "    TMYData.DNI                         Amount of direct normal radiation (modeled) recv'd during 60 mintues prior to timestamp, Wh/m^2\n",
      "    TMYData.DNISource                   See [1]_, Table 1-4\n",
      "    TMYData.DNIUncertainty              Uncertainty based on random and bias error estimates                        see [2]_\n",
      "    TMYData.DHI                         Amount of diffuse horizontal radiation recv'd during 60 minutes prior to timestamp, Wh/m^2\n",
      "    TMYData.DHISource                   See [1]_, Table 1-4\n",
      "    TMYData.DHIUncertainty              Uncertainty based on random and bias error estimates                        see [2]_\n",
      "    TMYData.GHillum                     Avg. total horizontal illuminance recv'd during the 60 minutes prior to timestamp, lx\n",
      "    TMYData.GHillumSource               See [1]_, Table 1-4\n",
      "    TMYData.GHillumUncertainty          Uncertainty based on random and bias error estimates                        see [2]_\n",
      "    TMYData.DNillum                     Avg. direct normal illuminance recv'd during the 60 minutes prior to timestamp, lx\n",
      "    TMYData.DNillumSource               See [1]_, Table 1-4\n",
      "    TMYData.DNillumUncertainty          Uncertainty based on random and bias error estimates                        see [2]_\n",
      "    TMYData.DHillum                     Avg. horizontal diffuse illuminance recv'd during the 60 minutes prior to timestamp, lx\n",
      "    TMYData.DHillumSource               See [1]_, Table 1-4\n",
      "    TMYData.DHillumUncertainty          Uncertainty based on random and bias error estimates                        see [2]_\n",
      "    TMYData.Zenithlum                   Avg. luminance at the sky's zenith during the 60 minutes prior to timestamp, cd/m^2\n",
      "    TMYData.ZenithlumSource             See [1]_, Table 1-4\n",
      "    TMYData.ZenithlumUncertainty        Uncertainty based on random and bias error estimates                        see [1]_ section 2.10\n",
      "    TMYData.TotCld                      Amount of sky dome covered by clouds or obscuring phenonema at time stamp, tenths of sky\n",
      "    TMYData.TotCldSource                See [1]_, Table 1-5, 8760x1 cell array of strings\n",
      "    TMYData.TotCldUncertainty           See [1]_, Table 1-6\n",
      "    TMYData.OpqCld                      Amount of sky dome covered by clouds or obscuring phenonema that prevent observing the sky at time stamp, tenths of sky\n",
      "    TMYData.OpqCldSource                See [1]_, Table 1-5, 8760x1 cell array of strings\n",
      "    TMYData.OpqCldUncertainty           See [1]_, Table 1-6\n",
      "    TMYData.DryBulb                     Dry bulb temperature at the time indicated, deg C\n",
      "    TMYData.DryBulbSource               See [1]_, Table 1-5, 8760x1 cell array of strings\n",
      "    TMYData.DryBulbUncertainty          See [1]_, Table 1-6\n",
      "    TMYData.DewPoint                    Dew-point temperature at the time indicated, deg C\n",
      "    TMYData.DewPointSource              See [1]_, Table 1-5, 8760x1 cell array of strings\n",
      "    TMYData.DewPointUncertainty         See [1]_, Table 1-6\n",
      "    TMYData.RHum                        Relatitudeive humidity at the time indicated, percent\n",
      "    TMYData.RHumSource                  See [1]_, Table 1-5, 8760x1 cell array of strings\n",
      "    TMYData.RHumUncertainty             See [1]_, Table 1-6\n",
      "    TMYData.Pressure                    Station pressure at the time indicated, 1 mbar\n",
      "    TMYData.PressureSource              See [1]_, Table 1-5, 8760x1 cell array of strings\n",
      "    TMYData.PressureUncertainty         See [1]_, Table 1-6\n",
      "    TMYData.Wdir                        Wind direction at time indicated, degrees from north (360 = north; 0 = undefined,calm)\n",
      "    TMYData.WdirSource                  See [1]_, Table 1-5, 8760x1 cell array of strings\n",
      "    TMYData.WdirUncertainty             See [1]_, Table 1-6\n",
      "    TMYData.Wspd                        Wind speed at the time indicated, meter/second\n",
      "    TMYData.WspdSource                  See [1]_, Table 1-5, 8760x1 cell array of strings\n",
      "    TMYData.WspdUncertainty             See [1]_, Table 1-6\n",
      "    TMYData.Hvis                        Distance to discernable remote objects at time indicated (7777=unlimited), meter\n",
      "    TMYData.HvisSource                  See [1]_, Table 1-5, 8760x1 cell array of strings\n",
      "    TMYData.HvisUncertainty             See [1]_, Table 1-6\n",
      "    TMYData.CeilHgt                     Height of cloud base above local terrain (7777=unlimited), meter\n",
      "    TMYData.CeilHgtSource               See [1]_, Table 1-5, 8760x1 cell array of strings\n",
      "    TMYData.CeilHgtUncertainty          See [1]_, Table 1-6\n",
      "    TMYData.Pwat                        Total precipitable water contained in a column of unit cross section from earth to top of atmosphere, cm\n",
      "    TMYData.PwatSource                  See [1]_, Table 1-5, 8760x1 cell array of strings\n",
      "    TMYData.PwatUncertainty             See [1]_, Table 1-6\n",
      "    TMYData.AOD                         The broadband aerosol optical depth per unit of air mass due to extinction by aerosol component of atmosphere, unitless\n",
      "    TMYData.AODSource                   See [1]_, Table 1-5, 8760x1 cell array of strings\n",
      "    TMYData.AODUncertainty              See [1]_, Table 1-6\n",
      "    TMYData.Alb                         The ratio of reflected solar irradiance to global horizontal irradiance, unitless\n",
      "    TMYData.AlbSource                   See [1]_, Table 1-5, 8760x1 cell array of strings\n",
      "    TMYData.AlbUncertainty              See [1]_, Table 1-6\n",
      "    TMYData.Lprecipdepth                The amount of liquid precipitation observed at indicated time for the period indicated in the liquid precipitation quantity field, millimeter\n",
      "    TMYData.Lprecipquantity             The period of accumulatitudeion for the liquid precipitation depth field, hour\n",
      "    TMYData.LprecipSource               See [1]_, Table 1-5, 8760x1 cell array of strings\n",
      "    TMYData.LprecipUncertainty          See [1]_, Table 1-6\n",
      "    TMYData.PresWth                     Present weather code, see [2]_.\n",
      "    TMYData.PresWthSource               Present weather code source, see [2]_.\n",
      "    TMYData.PresWthUncertainty          Present weather code uncertainty, see [2]_.\n",
      "    =============================       ======================================================================================================================================================\n",
      "    \n",
      "    .. warning:: TMY3 irradiance data corresponds to the *previous* hour, so\n",
      "        the first index is 1AM, corresponding to the irradiance from midnight\n",
      "        to 1AM, and the last index is midnight of the *next* year. For example,\n",
      "        if the last index in the TMY3 file was 1988-12-31 24:00:00 this becomes\n",
      "        1989-01-01 00:00:00 after calling :func:`~pvlib.iotools.read_tmy3`.\n",
      "    \n",
      "    .. warning:: When coercing the year, the last index in the dataframe will\n",
      "        become midnight of the *next* year. For example, if the last index in\n",
      "        the TMY3 was 1988-12-31 24:00:00, and year is coerced to 1990 then this\n",
      "        becomes 1991-01-01 00:00:00.\n",
      "    \n",
      "    References\n",
      "    ----------\n",
      "    \n",
      "    .. [1] Wilcox, S and Marion, W. \"Users Manual for TMY3 Data Sets\".\n",
      "       NREL/TP-581-43156, Revised May 2008.\n",
      "    \n",
      "    .. [2] Wilcox, S. (2007). National Solar Radiation Database 1991 2005\n",
      "       Update: Users Manual. 472 pp.; NREL Report No. TP-581-41364.\n",
      "\n"
     ]
    }
   ],
   "source": [
    "help(pvlib.iotools.read_tmy3)"
   ]
  },
  {
   "cell_type": "code",
   "execution_count": 4,
   "metadata": {
    "slideshow": {
     "slide_type": "subslide"
    }
   },
   "outputs": [
    {
     "data": {
      "text/plain": [
       "{'USAF': 723170,\n",
       " 'Name': '\"GREENSBORO PIEDMONT TRIAD INT\"',\n",
       " 'State': 'NC',\n",
       " 'TZ': -5.0,\n",
       " 'latitude': 36.1,\n",
       " 'longitude': -79.95,\n",
       " 'altitude': 273.0}"
      ]
     },
     "execution_count": 4,
     "metadata": {},
     "output_type": "execute_result"
    }
   ],
   "source": [
    "DATA_DIR = pathlib.Path(pvlib.__file__).parent / 'data'\n",
    "df_tmy, meta_dict = pvlib.iotools.read_tmy3(DATA_DIR / '723170TYA.CSV', coerce_year=1990)\n",
    "meta_dict  # display the dictionary of metadata"
   ]
  },
  {
   "cell_type": "markdown",
   "metadata": {},
   "source": [
    "Let's display the first 4 lines of the dataframe"
   ]
  },
  {
   "cell_type": "code",
   "execution_count": 5,
   "metadata": {},
   "outputs": [
    {
     "data": {
      "text/html": [
       "<div>\n",
       "<style scoped>\n",
       "    .dataframe tbody tr th:only-of-type {\n",
       "        vertical-align: middle;\n",
       "    }\n",
       "\n",
       "    .dataframe tbody tr th {\n",
       "        vertical-align: top;\n",
       "    }\n",
       "\n",
       "    .dataframe thead th {\n",
       "        text-align: right;\n",
       "    }\n",
       "</style>\n",
       "<table border=\"1\" class=\"dataframe\">\n",
       "  <thead>\n",
       "    <tr style=\"text-align: right;\">\n",
       "      <th></th>\n",
       "      <th>Date (MM/DD/YYYY)</th>\n",
       "      <th>Time (HH:MM)</th>\n",
       "      <th>ETR</th>\n",
       "      <th>ETRN</th>\n",
       "      <th>GHI</th>\n",
       "      <th>GHISource</th>\n",
       "      <th>GHIUncertainty</th>\n",
       "      <th>DNI</th>\n",
       "      <th>DNISource</th>\n",
       "      <th>DNIUncertainty</th>\n",
       "      <th>...</th>\n",
       "      <th>Alb</th>\n",
       "      <th>AlbSource</th>\n",
       "      <th>AlbUncertainty</th>\n",
       "      <th>Lprecipdepth</th>\n",
       "      <th>Lprecipquantity</th>\n",
       "      <th>LprecipSource</th>\n",
       "      <th>LprecipUncertainty</th>\n",
       "      <th>PresWth</th>\n",
       "      <th>PresWthSource</th>\n",
       "      <th>PresWthUncertainty</th>\n",
       "    </tr>\n",
       "  </thead>\n",
       "  <tbody>\n",
       "    <tr>\n",
       "      <th>1990-01-01 01:00:00-05:00</th>\n",
       "      <td>01/01/1988</td>\n",
       "      <td>01:00</td>\n",
       "      <td>0</td>\n",
       "      <td>0</td>\n",
       "      <td>0</td>\n",
       "      <td>1</td>\n",
       "      <td>0</td>\n",
       "      <td>0</td>\n",
       "      <td>1</td>\n",
       "      <td>0</td>\n",
       "      <td>...</td>\n",
       "      <td>0.0</td>\n",
       "      <td>?</td>\n",
       "      <td>0</td>\n",
       "      <td>0</td>\n",
       "      <td>1</td>\n",
       "      <td>D</td>\n",
       "      <td>9</td>\n",
       "      <td>0</td>\n",
       "      <td>C</td>\n",
       "      <td>8</td>\n",
       "    </tr>\n",
       "    <tr>\n",
       "      <th>1990-01-01 02:00:00-05:00</th>\n",
       "      <td>01/01/1988</td>\n",
       "      <td>02:00</td>\n",
       "      <td>0</td>\n",
       "      <td>0</td>\n",
       "      <td>0</td>\n",
       "      <td>1</td>\n",
       "      <td>0</td>\n",
       "      <td>0</td>\n",
       "      <td>1</td>\n",
       "      <td>0</td>\n",
       "      <td>...</td>\n",
       "      <td>0.0</td>\n",
       "      <td>?</td>\n",
       "      <td>0</td>\n",
       "      <td>0</td>\n",
       "      <td>1</td>\n",
       "      <td>D</td>\n",
       "      <td>9</td>\n",
       "      <td>0</td>\n",
       "      <td>C</td>\n",
       "      <td>8</td>\n",
       "    </tr>\n",
       "    <tr>\n",
       "      <th>1990-01-01 03:00:00-05:00</th>\n",
       "      <td>01/01/1988</td>\n",
       "      <td>03:00</td>\n",
       "      <td>0</td>\n",
       "      <td>0</td>\n",
       "      <td>0</td>\n",
       "      <td>1</td>\n",
       "      <td>0</td>\n",
       "      <td>0</td>\n",
       "      <td>1</td>\n",
       "      <td>0</td>\n",
       "      <td>...</td>\n",
       "      <td>0.0</td>\n",
       "      <td>?</td>\n",
       "      <td>0</td>\n",
       "      <td>0</td>\n",
       "      <td>1</td>\n",
       "      <td>D</td>\n",
       "      <td>9</td>\n",
       "      <td>0</td>\n",
       "      <td>C</td>\n",
       "      <td>8</td>\n",
       "    </tr>\n",
       "    <tr>\n",
       "      <th>1990-01-01 04:00:00-05:00</th>\n",
       "      <td>01/01/1988</td>\n",
       "      <td>04:00</td>\n",
       "      <td>0</td>\n",
       "      <td>0</td>\n",
       "      <td>0</td>\n",
       "      <td>1</td>\n",
       "      <td>0</td>\n",
       "      <td>0</td>\n",
       "      <td>1</td>\n",
       "      <td>0</td>\n",
       "      <td>...</td>\n",
       "      <td>0.0</td>\n",
       "      <td>?</td>\n",
       "      <td>0</td>\n",
       "      <td>0</td>\n",
       "      <td>1</td>\n",
       "      <td>D</td>\n",
       "      <td>9</td>\n",
       "      <td>0</td>\n",
       "      <td>C</td>\n",
       "      <td>8</td>\n",
       "    </tr>\n",
       "  </tbody>\n",
       "</table>\n",
       "<p>4 rows × 71 columns</p>\n",
       "</div>"
      ],
      "text/plain": [
       "                          Date (MM/DD/YYYY) Time (HH:MM)  ETR  ETRN  GHI  \\\n",
       "1990-01-01 01:00:00-05:00        01/01/1988        01:00    0     0    0   \n",
       "1990-01-01 02:00:00-05:00        01/01/1988        02:00    0     0    0   \n",
       "1990-01-01 03:00:00-05:00        01/01/1988        03:00    0     0    0   \n",
       "1990-01-01 04:00:00-05:00        01/01/1988        04:00    0     0    0   \n",
       "\n",
       "                           GHISource  GHIUncertainty  DNI  DNISource  \\\n",
       "1990-01-01 01:00:00-05:00          1               0    0          1   \n",
       "1990-01-01 02:00:00-05:00          1               0    0          1   \n",
       "1990-01-01 03:00:00-05:00          1               0    0          1   \n",
       "1990-01-01 04:00:00-05:00          1               0    0          1   \n",
       "\n",
       "                           DNIUncertainty  ...  Alb  AlbSource  \\\n",
       "1990-01-01 01:00:00-05:00               0  ...  0.0          ?   \n",
       "1990-01-01 02:00:00-05:00               0  ...  0.0          ?   \n",
       "1990-01-01 03:00:00-05:00               0  ...  0.0          ?   \n",
       "1990-01-01 04:00:00-05:00               0  ...  0.0          ?   \n",
       "\n",
       "                           AlbUncertainty  Lprecipdepth  Lprecipquantity  \\\n",
       "1990-01-01 01:00:00-05:00               0             0                1   \n",
       "1990-01-01 02:00:00-05:00               0             0                1   \n",
       "1990-01-01 03:00:00-05:00               0             0                1   \n",
       "1990-01-01 04:00:00-05:00               0             0                1   \n",
       "\n",
       "                           LprecipSource  LprecipUncertainty  PresWth  \\\n",
       "1990-01-01 01:00:00-05:00              D                   9        0   \n",
       "1990-01-01 02:00:00-05:00              D                   9        0   \n",
       "1990-01-01 03:00:00-05:00              D                   9        0   \n",
       "1990-01-01 04:00:00-05:00              D                   9        0   \n",
       "\n",
       "                           PresWthSource  PresWthUncertainty  \n",
       "1990-01-01 01:00:00-05:00              C                   8  \n",
       "1990-01-01 02:00:00-05:00              C                   8  \n",
       "1990-01-01 03:00:00-05:00              C                   8  \n",
       "1990-01-01 04:00:00-05:00              C                   8  \n",
       "\n",
       "[4 rows x 71 columns]"
      ]
     },
     "execution_count": 5,
     "metadata": {},
     "output_type": "execute_result"
    }
   ],
   "source": [
    "df_tmy.head(4)"
   ]
  },
  {
   "cell_type": "markdown",
   "metadata": {
    "slideshow": {
     "slide_type": "subslide"
    }
   },
   "source": [
    "This dataset follows the standard format of handling timeseries data with pandas -- one row per timestamp, one column per measurement type.  Because TMY files represent one year of data (no leap years), that means they'll have 8760 rows.  The number of columns can vary depending on the source of the data."
   ]
  },
  {
   "cell_type": "code",
   "execution_count": 6,
   "metadata": {
    "slideshow": {
     "slide_type": "subslide"
    }
   },
   "outputs": [
    {
     "name": "stdout",
     "output_type": "stream",
     "text": [
      "Number of rows: 8760\n",
      "Number of columns: 71\n"
     ]
    }
   ],
   "source": [
    "print(\"Number of rows:\", len(df_tmy))\n",
    "print(\"Number of columns:\", len(df_tmy.columns))"
   ]
  },
  {
   "cell_type": "markdown",
   "metadata": {},
   "source": [
    "You can access single rows by pointing to its number location (iloc) or by using the index name it has. In this case, that is a dateTime\n"
   ]
  },
  {
   "cell_type": "code",
   "execution_count": 7,
   "metadata": {},
   "outputs": [],
   "source": [
    "df_tmy.iloc[0];"
   ]
  },
  {
   "cell_type": "code",
   "execution_count": 8,
   "metadata": {},
   "outputs": [],
   "source": [
    "df_tmy.loc['1990-01-01 01:00:00-05:00'];"
   ]
  },
  {
   "cell_type": "markdown",
   "metadata": {},
   "source": [
    "You can also print all the column names in the dataframe"
   ]
  },
  {
   "cell_type": "code",
   "execution_count": 9,
   "metadata": {
    "slideshow": {
     "slide_type": "subslide"
    }
   },
   "outputs": [
    {
     "data": {
      "text/plain": [
       "Index(['Date (MM/DD/YYYY)', 'Time (HH:MM)', 'ETR', 'ETRN', 'GHI', 'GHISource',\n",
       "       'GHIUncertainty', 'DNI', 'DNISource', 'DNIUncertainty', 'DHI',\n",
       "       'DHISource', 'DHIUncertainty', 'GHillum', 'GHillumSource',\n",
       "       'GHillumUncertainty', 'DNillum', 'DNillumSource', 'DNillumUncertainty',\n",
       "       'DHillum', 'DHillumSource', 'DHillumUncertainty', 'Zenithlum',\n",
       "       'ZenithlumSource', 'ZenithlumUncertainty', 'TotCld', 'TotCldSource',\n",
       "       'TotCldUncertainty', 'OpqCld', 'OpqCldSource', 'OpqCldUncertainty',\n",
       "       'DryBulb', 'DryBulbSource', 'DryBulbUncertainty', 'DewPoint',\n",
       "       'DewPointSource', 'DewPointUncertainty', 'RHum', 'RHumSource',\n",
       "       'RHumUncertainty', 'Pressure', 'PressureSource', 'PressureUncertainty',\n",
       "       'Wdir', 'WdirSource', 'WdirUncertainty', 'Wspd', 'WspdSource',\n",
       "       'WspdUncertainty', 'Hvis', 'HvisSource', 'HvisUncertainty', 'CeilHgt',\n",
       "       'CeilHgtSource', 'CeilHgtUncertainty', 'Pwat', 'PwatSource',\n",
       "       'PwatUncertainty', 'AOD', 'AODSource', 'AODUncertainty', 'Alb',\n",
       "       'AlbSource', 'AlbUncertainty', 'Lprecipdepth', 'Lprecipquantity',\n",
       "       'LprecipSource', 'LprecipUncertainty', 'PresWth', 'PresWthSource',\n",
       "       'PresWthUncertainty'],\n",
       "      dtype='object')"
      ]
     },
     "execution_count": 9,
     "metadata": {},
     "output_type": "execute_result"
    }
   ],
   "source": [
    "df_tmy.keys()"
   ]
  },
  {
   "cell_type": "markdown",
   "metadata": {
    "slideshow": {
     "slide_type": "subslide"
    }
   },
   "source": [
    "There are 71 columns, which is quite a lot!  For now, let's focus just on the ones that are most important for PV modeling -- the irradiance, temperature, and wind speed columns, and extract them into a new DataFrame."
   ]
  },
  {
   "cell_type": "markdown",
   "metadata": {
    "slideshow": {
     "slide_type": "slide"
    }
   },
   "source": [
    "## Irradiance \n",
    "\n",
    "Irradiance is an instantaneous measurement of solar power over some area.  For practical purposes of measurement and interpretation, irradiance is expressed and separated into different components.\n",
    "\n",
    "![overview irradiance](images/tutorial_1_DNIDHIGHI.PNG)\n",
    "\n",
    "The units of irradiance are watts per square meter.  "
   ]
  },
  {
   "cell_type": "markdown",
   "metadata": {
    "slideshow": {
     "slide_type": "subslide"
    }
   },
   "source": [
    "## Wind\n",
    "\n",
    "Wind speed is measured with an anemometer.  The most common type is a the cup-type anemometer, shown on the right side of the picture below.  The number of rotations per time interval is used to calculate the wind speed.  The vane on the left is used to measure the direction of the wind.  Wind direction is reported as the direction from which the wind is blowing.\n",
    "\n",
    "<img src=\"https://pvpmc.sandia.gov/wp-content/uploads/2012/04/anemometer.jpg\"></img>"
   ]
  },
  {
   "cell_type": "markdown",
   "metadata": {
    "slideshow": {
     "slide_type": "subslide"
    }
   },
   "source": [
    "## Air temperature \n",
    "\n",
    "Also known as dry-bulb temperature, is the temperature of the ambient air when the measurement device is shielded from radiation and moisture. The most common method of air temperature measurement uses a resistive temperature device (RTD) or thermocouple within a radiation shield. The shield blocks sunlight from reaching the sensor (avoiding radiative heating), yet allows natural air flow around the sensor. More accurate temperature measurement devices utilize a shield which forces air across the sensor.\n",
    "\n",
    "Air temperature is typically measured on the Celsius scale.\n",
    "\n",
    "Air temperature plays a large role in PV system performance as PV modules and inverters are cooled convectively by the surrounding air.\n",
    "\n",
    "<img src=\"https://pvpmc.sandia.gov/wp-content/uploads/2012/04/AmbTemp.jpg\" width=\"400\" height=\"400\"> </img>"
   ]
  },
  {
   "cell_type": "markdown",
   "metadata": {
    "slideshow": {
     "slide_type": "slide"
    }
   },
   "source": [
    "## Downselect columns \n",
    "\n",
    "There are a lot more weather data in that file that you can access. To investigate all the column headers, we used `.keys()` above. Always read the [Instruction Manual](https://www.nrel.gov/docs/fy08osti/43156.pdf) for the weather files to get more details on how the data is aggregated, units, etc.\n",
    "\n",
    "At this point we are interested in <b> GHI, DHI, DNI, DryBulb </b> and <b> Wind Speed </b>. For this NREL TMY3 dataset the units of irradiance are W/m&sup2;, dry bulb temperature is in &deg;C, and wind speed is m/s."
   ]
  },
  {
   "cell_type": "code",
   "execution_count": 10,
   "metadata": {
    "slideshow": {
     "slide_type": "subslide"
    }
   },
   "outputs": [
    {
     "data": {
      "text/html": [
       "<div>\n",
       "<style scoped>\n",
       "    .dataframe tbody tr th:only-of-type {\n",
       "        vertical-align: middle;\n",
       "    }\n",
       "\n",
       "    .dataframe tbody tr th {\n",
       "        vertical-align: top;\n",
       "    }\n",
       "\n",
       "    .dataframe thead th {\n",
       "        text-align: right;\n",
       "    }\n",
       "</style>\n",
       "<table border=\"1\" class=\"dataframe\">\n",
       "  <thead>\n",
       "    <tr style=\"text-align: right;\">\n",
       "      <th></th>\n",
       "      <th>GHI</th>\n",
       "      <th>DHI</th>\n",
       "      <th>DNI</th>\n",
       "      <th>DryBulb</th>\n",
       "      <th>Wspd</th>\n",
       "    </tr>\n",
       "  </thead>\n",
       "  <tbody>\n",
       "    <tr>\n",
       "      <th>1990-01-01 01:00:00-05:00</th>\n",
       "      <td>0</td>\n",
       "      <td>0</td>\n",
       "      <td>0</td>\n",
       "      <td>10.0</td>\n",
       "      <td>6.2</td>\n",
       "    </tr>\n",
       "    <tr>\n",
       "      <th>1990-01-01 02:00:00-05:00</th>\n",
       "      <td>0</td>\n",
       "      <td>0</td>\n",
       "      <td>0</td>\n",
       "      <td>10.0</td>\n",
       "      <td>5.2</td>\n",
       "    </tr>\n",
       "    <tr>\n",
       "      <th>1990-01-01 03:00:00-05:00</th>\n",
       "      <td>0</td>\n",
       "      <td>0</td>\n",
       "      <td>0</td>\n",
       "      <td>10.0</td>\n",
       "      <td>5.7</td>\n",
       "    </tr>\n",
       "    <tr>\n",
       "      <th>1990-01-01 04:00:00-05:00</th>\n",
       "      <td>0</td>\n",
       "      <td>0</td>\n",
       "      <td>0</td>\n",
       "      <td>10.0</td>\n",
       "      <td>5.7</td>\n",
       "    </tr>\n",
       "    <tr>\n",
       "      <th>1990-01-01 05:00:00-05:00</th>\n",
       "      <td>0</td>\n",
       "      <td>0</td>\n",
       "      <td>0</td>\n",
       "      <td>10.0</td>\n",
       "      <td>5.2</td>\n",
       "    </tr>\n",
       "    <tr>\n",
       "      <th>1990-01-01 06:00:00-05:00</th>\n",
       "      <td>0</td>\n",
       "      <td>0</td>\n",
       "      <td>0</td>\n",
       "      <td>10.0</td>\n",
       "      <td>4.1</td>\n",
       "    </tr>\n",
       "    <tr>\n",
       "      <th>1990-01-01 07:00:00-05:00</th>\n",
       "      <td>0</td>\n",
       "      <td>0</td>\n",
       "      <td>0</td>\n",
       "      <td>10.0</td>\n",
       "      <td>4.1</td>\n",
       "    </tr>\n",
       "    <tr>\n",
       "      <th>1990-01-01 08:00:00-05:00</th>\n",
       "      <td>9</td>\n",
       "      <td>9</td>\n",
       "      <td>1</td>\n",
       "      <td>10.0</td>\n",
       "      <td>5.2</td>\n",
       "    </tr>\n",
       "    <tr>\n",
       "      <th>1990-01-01 09:00:00-05:00</th>\n",
       "      <td>46</td>\n",
       "      <td>46</td>\n",
       "      <td>3</td>\n",
       "      <td>10.0</td>\n",
       "      <td>5.2</td>\n",
       "    </tr>\n",
       "    <tr>\n",
       "      <th>1990-01-01 10:00:00-05:00</th>\n",
       "      <td>79</td>\n",
       "      <td>78</td>\n",
       "      <td>4</td>\n",
       "      <td>10.6</td>\n",
       "      <td>5.2</td>\n",
       "    </tr>\n",
       "    <tr>\n",
       "      <th>1990-01-01 11:00:00-05:00</th>\n",
       "      <td>199</td>\n",
       "      <td>198</td>\n",
       "      <td>3</td>\n",
       "      <td>11.7</td>\n",
       "      <td>6.2</td>\n",
       "    </tr>\n",
       "    <tr>\n",
       "      <th>1990-01-01 12:00:00-05:00</th>\n",
       "      <td>261</td>\n",
       "      <td>260</td>\n",
       "      <td>3</td>\n",
       "      <td>11.7</td>\n",
       "      <td>5.2</td>\n",
       "    </tr>\n",
       "    <tr>\n",
       "      <th>1990-01-01 13:00:00-05:00</th>\n",
       "      <td>155</td>\n",
       "      <td>155</td>\n",
       "      <td>0</td>\n",
       "      <td>11.7</td>\n",
       "      <td>5.2</td>\n",
       "    </tr>\n",
       "    <tr>\n",
       "      <th>1990-01-01 14:00:00-05:00</th>\n",
       "      <td>144</td>\n",
       "      <td>144</td>\n",
       "      <td>2</td>\n",
       "      <td>11.7</td>\n",
       "      <td>3.1</td>\n",
       "    </tr>\n",
       "    <tr>\n",
       "      <th>1990-01-01 15:00:00-05:00</th>\n",
       "      <td>131</td>\n",
       "      <td>131</td>\n",
       "      <td>1</td>\n",
       "      <td>11.1</td>\n",
       "      <td>4.1</td>\n",
       "    </tr>\n",
       "  </tbody>\n",
       "</table>\n",
       "</div>"
      ],
      "text/plain": [
       "                           GHI  DHI  DNI  DryBulb  Wspd\n",
       "1990-01-01 01:00:00-05:00    0    0    0     10.0   6.2\n",
       "1990-01-01 02:00:00-05:00    0    0    0     10.0   5.2\n",
       "1990-01-01 03:00:00-05:00    0    0    0     10.0   5.7\n",
       "1990-01-01 04:00:00-05:00    0    0    0     10.0   5.7\n",
       "1990-01-01 05:00:00-05:00    0    0    0     10.0   5.2\n",
       "1990-01-01 06:00:00-05:00    0    0    0     10.0   4.1\n",
       "1990-01-01 07:00:00-05:00    0    0    0     10.0   4.1\n",
       "1990-01-01 08:00:00-05:00    9    9    1     10.0   5.2\n",
       "1990-01-01 09:00:00-05:00   46   46    3     10.0   5.2\n",
       "1990-01-01 10:00:00-05:00   79   78    4     10.6   5.2\n",
       "1990-01-01 11:00:00-05:00  199  198    3     11.7   6.2\n",
       "1990-01-01 12:00:00-05:00  261  260    3     11.7   5.2\n",
       "1990-01-01 13:00:00-05:00  155  155    0     11.7   5.2\n",
       "1990-01-01 14:00:00-05:00  144  144    2     11.7   3.1\n",
       "1990-01-01 15:00:00-05:00  131  131    1     11.1   4.1"
      ]
     },
     "execution_count": 10,
     "metadata": {},
     "output_type": "execute_result"
    }
   ],
   "source": [
    "# GHI, DHI, DNI are irradiance measurements\n",
    "# DryBulb is the \"dry-bulb\" (ambient) temperature\n",
    "# Wspd is wind speed\n",
    "df = df_tmy[['GHI', 'DHI', 'DNI', 'DryBulb', 'Wspd']]\n",
    "# show the first 15 rows:\n",
    "df.head(15)"
   ]
  },
  {
   "cell_type": "markdown",
   "metadata": {},
   "source": [
    "## Plotting time series data with pandas and matplotlib\n",
    "\n",
    "Let's make some plots to get a better idea of what TMY data gives us.\n",
    "\n",
    "### Irradiance\n",
    "\n",
    "First, the three irradiance fields:"
   ]
  },
  {
   "cell_type": "code",
   "execution_count": 11,
   "metadata": {
    "scrolled": true
   },
   "outputs": [
    {
     "data": {
      "image/png": "[encoded data removed]",
      "text/plain": [
       "<Figure size 432x288 with 1 Axes>"
      ]
     },
     "metadata": {
      "needs_background": "light"
     },
     "output_type": "display_data"
    }
   ],
   "source": [
    "first_week = df.head(24*7)  # Plotting 7 days, each one has 24 hours or entries\n",
    "first_week[['GHI', 'DHI', 'DNI']].plot()\n",
    "plt.ylabel('Irradiance [W/m$^2$]');"
   ]
  },
  {
   "cell_type": "markdown",
   "metadata": {},
   "source": [
    "Let's control the parameters a bit more"
   ]
  },
  {
   "cell_type": "code",
   "execution_count": 12,
   "metadata": {},
   "outputs": [
    {
     "data": {
      "image/png": "[encoded data removed]",
      "text/plain": [
       "<Figure size 432x288 with 1 Axes>"
      ]
     },
     "metadata": {
      "needs_background": "light"
     },
     "output_type": "display_data"
    }
   ],
   "source": [
    "birthday = df.loc['1990-11-06':'1990-11-06']\n",
    "plt.plot(birthday['DNI'], color='r') \n",
    "plt.plot(birthday['DHI'], color='g', marker='.') \n",
    "plt.plot(birthday['GHI'], color='b', marker='s') \n",
    "plt.ylabel('Irradiance [W/m$^2$]');"
   ]
  },
  {
   "cell_type": "markdown",
   "metadata": {},
   "source": [
    "#### Exercise\n",
    "\n",
    "How does the Irradiance look like in YOUR birthday?\n",
    "\n",
    "Hint: the next cell is 'Markdown', you need to switch it to 'Code' for it to run"
   ]
  },
  {
   "cell_type": "markdown",
   "metadata": {},
   "source": [
    "birthday = df.loc[] # Type your birthday here using the 1990 year, i.e. '1990-11-06':'1990-11-06'\n",
    "plt.plot(birthday['DNI'], color='g') \n",
    "plt.plot(birthday['DHI'], color='b', marker='.') \n",
    "plt.plot(birthday['GHI'], color='r', marker='s') \n",
    "plt.ylabel('Irradiance [W/m$^2$]');"
   ]
  },
  {
   "cell_type": "markdown",
   "metadata": {},
   "source": [
    "GHI, DHI, and DNI are the three \"basic\" ways of measuring irradiance, although each of them is measured in units of power per area (watts per square meter):\n",
    "\n",
    "- GHI: Global Horizontal Irradiance; the total sunlight intensity falling on a horizontal plane\n",
    "- DHI: Diffuse Horizontal Irradiance; the subset of sunlight falling on a horizontal plane that isn't coming directly from the sun (e.g., the light that makes the sky blue)\n",
    "- DNI: Direct Normal Irradiance; the subset of sunlight coming directly from the sun\n",
    "\n",
    "![Overview](images/t1_GHI.PNG)\n"
   ]
  },
  {
   "cell_type": "markdown",
   "metadata": {},
   "source": [
    "\n",
    "![Overview](images/t1_DHI.PNG)\n",
    "\n"
   ]
  },
  {
   "cell_type": "markdown",
   "metadata": {},
   "source": [
    "![Overview](images/t1_DNI.PNG)\n"
   ]
  },
  {
   "cell_type": "markdown",
   "metadata": {},
   "source": [
    "Later tutorials will show how these three values are used in PV modeling.  For now, let's just get a qualitative understanding of the differences between them: looking at the above plot, there is a pattern where when DNI is high, DHI is low.  The sun puts out a (roughly) constant amount of energy, which means photons either make it through the atmosphere without scattering and are counted as direct irradiance, or they tend to get scattered and become part of the diffuse irradiance, but not both.  Looking at DNI makes it easy to pick out which hours are cloud and which are sunny -- most days in January are rather overcast with low irradiance, but the sun does occasionally break through.\n",
    "\n",
    "In addition to daily variation, there is also seasonal variation in irradiance.  Let's compare a winter week with a summer week, using pandas to select out a summertime subset.  Notice the increased intensity in summer -- GHI peaks around 900 W/m^2, whereas in winter the maximum was more like 500 W/m^2."
   ]
  },
  {
   "cell_type": "code",
   "execution_count": 13,
   "metadata": {},
   "outputs": [
    {
     "data": {
      "image/png": "[encoded data removed]",
      "text/plain": [
       "<Figure size 432x288 with 1 Axes>"
      ]
     },
     "metadata": {
      "needs_background": "light"
     },
     "output_type": "display_data"
    }
   ],
   "source": [
    "summer_week = df.loc['1990-06-01':'1990-06-08']\n",
    "summer_week[['GHI', 'DHI', 'DNI']].plot()\n",
    "plt.ylabel('Irradiance [W/m$^2$]');"
   ]
  },
  {
   "cell_type": "markdown",
   "metadata": {},
   "source": [
    "### Temperature\n",
    "\n",
    "Next up is temperature:"
   ]
  },
  {
   "cell_type": "code",
   "execution_count": 14,
   "metadata": {},
   "outputs": [
    {
     "data": {
      "image/png": "[encoded data removed]",
      "text/plain": [
       "<Figure size 432x288 with 1 Axes>"
      ]
     },
     "metadata": {
      "needs_background": "light"
     },
     "output_type": "display_data"
    }
   ],
   "source": [
    "first_week['DryBulb'].plot()\n",
    "plt.ylabel('Ambient Temperature [°C]');"
   ]
  },
  {
   "cell_type": "markdown",
   "metadata": {},
   "source": [
    "### Wind speed\n",
    "\n",
    "And finally, wind speed:"
   ]
  },
  {
   "cell_type": "code",
   "execution_count": 15,
   "metadata": {},
   "outputs": [
    {
     "data": {
      "image/png": "[encoded data removed]",
      "text/plain": [
       "<Figure size 432x288 with 1 Axes>"
      ]
     },
     "metadata": {
      "needs_background": "light"
     },
     "output_type": "display_data"
    }
   ],
   "source": [
    "first_week['Wspd'].plot()\n",
    "plt.ylabel('Wind Speed [m/s]');"
   ]
  },
  {
   "cell_type": "markdown",
   "metadata": {},
   "source": [
    "## Aggregating hourly data to monthly summaries\n",
    "\n",
    "Pandas makes it easy to roll-up timeseries data into summary values. We can use the [`DataFrame.resample()`](https://pandas.pydata.org/pandas-docs/stable/reference/api/pandas.DataFrame.resample.html) function with [`DateOffsets`](https://pandas.pydata.org/pandas-docs/stable/user_guide/timeseries.html#dateoffset-objects) like `'M'` for months.  For example, we can calculate total monthly GHI as a quick way to visualize the seasonality of solar resource:"
   ]
  },
  {
   "cell_type": "code",
   "execution_count": 16,
   "metadata": {},
   "outputs": [
    {
     "data": {
      "text/plain": [
       "1990-01-31 00:00:00-05:00     74848\n",
       "1990-02-28 00:00:00-05:00     85751\n",
       "1990-03-31 00:00:00-05:00    131766\n",
       "1990-04-30 00:00:00-05:00    162302\n",
       "Freq: M, Name: GHI, dtype: int64"
      ]
     },
     "execution_count": 16,
     "metadata": {},
     "output_type": "execute_result"
    }
   ],
   "source": [
    "# summing hourly irradiance (W/m^2) gives insolation (W h/m^2)\n",
    "monthly_ghi = df['GHI'].resample('M').sum()\n",
    "monthly_ghi.head(4)"
   ]
  },
  {
   "cell_type": "code",
   "execution_count": 17,
   "metadata": {},
   "outputs": [
    {
     "data": {
      "image/png": "[encoded data removed]",
      "text/plain": [
       "<Figure size 432x288 with 1 Axes>"
      ]
     },
     "metadata": {
      "needs_background": "light"
     },
     "output_type": "display_data"
    }
   ],
   "source": [
    "monthly_ghi = monthly_ghi.tz_localize(None)  # don't need timezone for monthly data\n",
    "monthly_ghi.plot.bar()\n",
    "plt.ylabel('Monthly Global Horizontal Irradiance\\n[W h/m$^2$]');"
   ]
  },
  {
   "cell_type": "markdown",
   "metadata": {},
   "source": [
    "We can also take monthly averages instead of monthly sums:"
   ]
  },
  {
   "cell_type": "code",
   "execution_count": 18,
   "metadata": {},
   "outputs": [
    {
     "data": {
      "image/png": "[encoded data removed]",
      "text/plain": [
       "<Figure size 432x288 with 2 Axes>"
      ]
     },
     "metadata": {
      "needs_background": "light"
     },
     "output_type": "display_data"
    }
   ],
   "source": [
    "fig, ax1 = plt.subplots()\n",
    "ax2 = ax1.twinx()  # add a second y-axis\n",
    "monthly_average_temp_wind = df[['DryBulb', 'Wspd']].resample('M').mean()\n",
    "monthly_average_temp_wind['DryBulb'].plot(ax=ax1, c='tab:blue')\n",
    "monthly_average_temp_wind['Wspd'].plot(ax=ax2, c='tab:orange')\n",
    "ax1.set_ylabel(r'Ambient Temperature [$\\degree$ C]')\n",
    "ax2.set_ylabel(r'Wind Speed [m/s]')\n",
    "ax1.legend(loc='lower left')\n",
    "ax2.legend(loc='lower right');"
   ]
  },
  {
   "cell_type": "markdown",
   "metadata": {},
   "source": [
    "### Exercise\n",
    "\n",
    "Plot the Average DNI per Day"
   ]
  },
  {
   "cell_type": "code",
   "execution_count": 19,
   "metadata": {},
   "outputs": [
    {
     "name": "stdout",
     "output_type": "stream",
     "text": [
      "You haven't finished this exercise correctly, try again!\n"
     ]
    }
   ],
   "source": [
    "try:\n",
    "    daily_average_DNI = df[['']].resample('').mean()  # Add the column name, and resample by day. Month is 'M', day is..\n",
    "    daily_average_DNI.plot()\n",
    "except:\n",
    "    print(\"You haven't finished this exercise correctly, try again!\")"
   ]
  },
  {
   "cell_type": "markdown",
   "metadata": {
    "slideshow": {
     "slide_type": "slide"
    }
   },
   "source": [
    "## Where to get _Free_ Solar Irradiance Data?\n",
    "\n",
    "There are many different sources of solar irradiance data. For your projects, these are some of the most common:\n",
    "\n",
    "- [TMY3/TMY2](https://nsrdb.nrel.gov/data-sets/archives.html) - like the data we loaded earlier on this example. This database of TMY3 `.csv` files and TMY2 files have been archived by NREL.\n",
    "\n",
    "- [NSRDB](https://maps.nrel.gov/nsrdb-viewer/) - National Solar Radiation Database. You can access data through the website for many locations accross the world, or you can use their [web API](https://developer.nrel.gov/docs/solar/nsrdb/) to download data programmatically. An \"API\" is an [\"application programming interface\"](https://en.wikipedia.org/wiki/API), and a \"web API\" is a programming interface that allows you to write code to interact with web services like the NSRDB.\n",
    "\n",
    "- [EPW](https://www.energy.gov/eere/buildings/downloads/energyplus-0) - Energy Plus Weather data is available for many locations accross the world. It's in its own format file ('EPW') so you can't open it easily in a spreadsheet program like Excel, but you can use [`pvlib.iotools.read_epw()`](https://pvlib-python.readthedocs.io/en/stable/generated/pvlib.iotools.read_epw.html) to get it into a dataframe and use it.\n",
    "\n",
    "- [PVGIS](https://ec.europa.eu/jrc/en/pvgis) - Free global weather data provided by the European Union and derived from many govermental agencies including the NSRDB. PVGIS also provides a web API. You can get PVGIS TMY data using [`pvlib.iotools.get_pvgis_tmy()`](https://pvlib-python.readthedocs.io/en/stable/generated/pvlib.iotools.get_pvgis_tmy.html).\n",
    "\n",
    "- Perhaps another useful link: https://sam.nrel.gov/weather-data.html\n",
    "\n",
    "## Where else can you get historical irradiance data?\n",
    "\n",
    "There are several commercial providers of solar irradiance data. Data is available at different spatial and time resolutions. Each provider offers data under subscription that will provide access to irradiance (and other weather variables) via API to leverage in python.\n",
    "\n",
    "* [SolarAnywhere](https://www.solaranywhere.com/)\n",
    "* [SolarGIS](https://solargis.com/)\n",
    "* [Vaisala](https://www.vaisala.com/en)\n",
    "* [Meteonorm](https://meteonorm.com/en/)\n",
    "* [DNV Solar Resource Compass](https://src.dnvgl.com/)"
   ]
  },
  {
   "cell_type": "markdown",
   "metadata": {
    "slideshow": {
     "slide_type": "subslide"
    }
   },
   "source": [
    "\n",
    "![NSRDB Example](images/tutorial_1_NSRDB_example.PNG)\n"
   ]
  },
  {
   "cell_type": "markdown",
   "metadata": {},
   "source": [
    "## NREL API Key\n",
    "At the [NREL Developer Network](https://developer.nrel.gov/), there are [APIs](https://en.wikipedia.org/wiki/API) to a lot of valuable [solar resources](https://developer.nrel.gov/docs/solar/) like [weather data from the NSRDB](https://developer.nrel.gov/docs/solar/nsrdb/), [operational data from PVDAQ](https://developer.nrel.gov/docs/solar/pvdaq-v3/), or indicative calculations using [PVWatts](https://developer.nrel.gov/docs/solar/pvwatts/). In order to use these resources from NREL, you need to [register for a free API key](https://developer.nrel.gov/signup/). You can test out the APIs using the `DEMO_KEY` but it has limited bandwidth compared to the [usage limit for registered users](https://developer.nrel.gov/docs/rate-limits/). NREL has some [API usage instructions](https://developer.nrel.gov/docs/api-key/), but pvlib has a few builtin functions, like [`pvlib.iotools.get_psm3()`](https://pvlib-python.readthedocs.io/en/stable/generated/pvlib.iotools.get_psm3.html), that wrap the NREL API, and call them for you to make it much easier to use. Skip ahead to the next section to learn more. But before you do...\n",
    "\n",
    "**Please pause now to visit https://developer.nrel.gov/signup/ and get an API key.**\n",
    "\n",
    "### Application Programming Interface (API)\n",
    "What exactly is an API? Nowadays, the phrase is used interchangeably with a \"web API\" but in general an API is just a recipe for how to interface with a application programmatically, _IE_: in code. An API could be as simple as a function signature or its published documentation, _EG_: the API for the `solarposition` function is you give it an ISO8601 formatted date with a timezone, the latitude, longitude, and elevation as numbers, and it returns the zenith and azimuth as numbers.\n",
    "\n",
    "A web API is the same, except the application is a web service, that you access at its URL using web methods. We won't go into too much more detail here, but the most common web method is `GET` which is pretty self explanatory. Look over the [NREL web usage instructions](https://developer.nrel.gov/docs/api-key/) for some examples, but interacting with a web API can be as easy as entering a URL into a browser. Try the URL below to _get_ the PVWatts energy output for a fixed tilt site in [Broomfield, CO](https://goo.gl/maps/awkEcNGzSur9Has18).\n",
    "\n",
    "https://developer.nrel.gov/api/pvwatts/v6.json?api_key=DEMO_KEY&lat=40&lon=-105&system_capacity=4&azimuth=180&tilt=40&array_type=1&module_type=1&losses=10\n",
    "\n",
    "In addition to just using your browser, you can also access web APIs programmatically. The most popular Python package to interact with web APIs is [requests](https://docs.python-requests.org/en/master/). There's also free open source command-line tools like [cURL](https://curl.se/) and [HTTPie](https://httpie.io/), and a popular nagware/freemium GUI application called [Postman](https://www.postman.com/).\n",
    "\n",
    "**If you have an NREL API key please enter it in the next cell.**"
   ]
  },
  {
   "cell_type": "code",
   "execution_count": 20,
   "metadata": {},
   "outputs": [],
   "source": [
    "NREL_API_KEY = None  # <-- please set your NREL API key here\n",
    "\n",
    "# note you must use \"quotes\" around your key, for example:\n",
    "# NREL_API_KEY = 'DEMO_KEY'  # single or double both work fine\n",
    "\n",
    "# during the live tutorial, we've stored a dedicated key on our server\n",
    "if NREL_API_KEY is None:\n",
    "    try:\n",
    "        NREL_API_KEY = os.environ['NREL_API_KEY']  # get dedicated key for tutorial from servier\n",
    "    except KeyError:\n",
    "        NREL_API_KEY = 'DEMO_KEY'  # OK for this demo, but better to get your own key"
   ]
  },
  {
   "cell_type": "markdown",
   "metadata": {
    "slideshow": {
     "slide_type": "slide"
    }
   },
   "source": [
    "## Fetching TMYs from the NSRDB\n",
    "\n",
    "The example TMY dataset used here is from an airport in North Carolina, but what if we wanted to model a PV system somewhere else? The NSRDB, one of many sources of weather data intended for PV modeling, is free and easy to access using pvlib. As an example, we'll fetch a TMY dataset for Albuquerque, New Mexico at coordinates [(35.0844, -106.6504)](https://www.google.com/maps/@35.0844,-106.6504,9z). We use [`pvlib.iotools.get_psm3()`](https://pvlib-python.readthedocs.io/en/stable/generated/pvlib.iotools.get_psm3.html) which returns a Python dictionary of metadata and a Pandas dataframe of the timeseries weather data."
   ]
  },
  {
   "cell_type": "code",
   "execution_count": 21,
   "metadata": {
    "slideshow": {
     "slide_type": "subslide"
    }
   },
   "outputs": [
    {
     "data": {
      "text/plain": [
       "{'Source': 'NSRDB',\n",
       " 'Location ID': '94139',\n",
       " 'City': '-',\n",
       " 'State': '-',\n",
       " 'Country': '-',\n",
       " 'Latitude': 35.09,\n",
       " 'Longitude': -106.66,\n",
       " 'Time Zone': -7,\n",
       " 'Elevation': 1496,\n",
       " 'Local Time Zone': -7,\n",
       " 'Dew Point Units': 'c',\n",
       " 'DHI Units': 'w/m2',\n",
       " 'DNI Units': 'w/m2',\n",
       " 'GHI Units': 'w/m2',\n",
       " 'Temperature Units': 'c',\n",
       " 'Pressure Units': 'mbar',\n",
       " 'Wind Direction Units': 'Degrees',\n",
       " 'Wind Speed': 'm/s',\n",
       " 'Surface Albedo Units': 'N/A',\n",
       " 'Version': '3.1.1'}"
      ]
     },
     "execution_count": 21,
     "metadata": {},
     "output_type": "execute_result"
    }
   ],
   "source": [
    "metadata, df_abq = pvlib.iotools.get_psm3(\n",
    "    latitude=35.0844, longitude=-106.6504,\n",
    "    api_key=NREL_API_KEY,\n",
    "    email='mark.mikofski@dnv.com',  # <-- any email works here fine\n",
    "    names='tmy')\n",
    "metadata"
   ]
  },
  {
   "cell_type": "markdown",
   "metadata": {
    "slideshow": {
     "slide_type": "subslide"
    }
   },
   "source": [
    "TMY datasets from the PSM3 service of the NSRDB are timestamped using the real year that the measurements came from. The [`pvlib.iotools.read_tmy3()`](https://pvlib-python.readthedocs.io/en/stable/generated/pvlib.iotools.read_tmy3.html) function had a `coerce_year` argument to force everything to align to a single dummy year, but `pvlib.iotools.get_psm3()` doesn't have that feature. For convenience let's standardize the data to 1990 and then compare monthly GHI to the North Carolina location:"
   ]
  },
  {
   "cell_type": "code",
   "execution_count": 22,
   "metadata": {
    "slideshow": {
     "slide_type": "subslide"
    }
   },
   "outputs": [
    {
     "data": {
      "image/png": "[encoded data removed]",
      "text/plain": [
       "<Figure size 432x288 with 1 Axes>"
      ]
     },
     "metadata": {
      "needs_background": "light"
     },
     "output_type": "display_data"
    }
   ],
   "source": [
    "df_abq['Year'] = 1990\n",
    "df_abq.index = pd.to_datetime(df_abq[['Year', 'Month', 'Day', 'Hour']])\n",
    "\n",
    "ghi_comparison = pd.DataFrame({\n",
    "    'NC': monthly_ghi,  # using the monthly values from earlier\n",
    "    'NM': df_abq['GHI'].resample('M').sum(),\n",
    "})\n",
    "\n",
    "ghi_comparison.plot.bar()\n",
    "plt.ylabel('Monthly GHI [W h/m^2]');"
   ]
  },
  {
   "cell_type": "markdown",
   "metadata": {
    "slideshow": {
     "slide_type": "notes"
    }
   },
   "source": [
    "It's not too surprising to see that our New Mexico location is significantly sunnier than the one in North Carolina."
   ]
  },
  {
   "cell_type": "markdown",
   "metadata": {},
   "source": [
    "[![Creative Commons License](https://i.creativecommons.org/l/by/4.0/88x31.png)](http://creativecommons.org/licenses/by/4.0/)\n",
    "\n",
    "This work is licensed under a [Creative Commons Attribution 4.0 International License](http://creativecommons.org/licenses/by/4.0/)."
   ]
  }
 ],
 "metadata": {
  "kernelspec": {
   "display_name": "Python 3",
   "language": "python",
   "name": "python3"
  },
  "language_info": {
   "codemirror_mode": {
    "name": "ipython",
    "version": 3
   },
   "file_extension": ".py",
   "mimetype": "text/x-python",
   "name": "python",
   "nbconvert_exporter": "python",
   "pygments_lexer": "ipython3",
   "version": "3.7.10"
  }
 },
 "nbformat": 4,
 "nbformat_minor": 4
}
